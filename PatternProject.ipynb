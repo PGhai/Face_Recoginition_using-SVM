{
  "nbformat": 4,
  "nbformat_minor": 0,
  "metadata": {
    "colab": {
      "name": "PatternProject.ipynb",
      "provenance": [],
      "collapsed_sections": [],
      "machine_shape": "hm"
    },
    "kernelspec": {
      "name": "python3",
      "display_name": "Python 3"
    }
  },
  "cells": [
    {
      "cell_type": "code",
      "metadata": {
        "id": "upW_58mjkihM",
        "colab_type": "code",
        "outputId": "340ed783-fd92-4eb3-e87d-9dca9f53d33b",
        "colab": {
          "base_uri": "https://localhost:8080/",
          "height": 54
        }
      },
      "source": [
        "from google.colab import drive\n",
        "drive.mount('/content/drive/',force_remount=False)"
      ],
      "execution_count": 1,
      "outputs": [
        {
          "output_type": "stream",
          "text": [
            "Drive already mounted at /content/drive/; to attempt to forcibly remount, call drive.mount(\"/content/drive/\", force_remount=True).\n"
          ],
          "name": "stdout"
        }
      ]
    },
    {
      "cell_type": "code",
      "metadata": {
        "id": "pScqrf5tkzLy",
        "colab_type": "code",
        "outputId": "9122fea3-bbd9-4558-cbc6-a29352014c25",
        "colab": {
          "base_uri": "https://localhost:8080/",
          "height": 97
        }
      },
      "source": [
        "from os import listdir\n",
        "import os\n",
        "from pickle import dump\n",
        "from pickle import load\n",
        "\n",
        "from keras.applications.vgg16 import VGG16\n",
        "from keras.preprocessing.image import load_img\n",
        "from keras.preprocessing.image import img_to_array\n",
        "from keras.applications.vgg16 import preprocess_input\n",
        "from keras.models import Model\n",
        "from keras.layers import Input\n",
        "from keras.layers import Dense\n",
        "from keras.layers import LSTM\n",
        "from keras.layers import Embedding\n",
        "from keras.layers import Dropout\n",
        "from keras.layers.merge import add\n",
        "from keras.callbacks import ModelCheckpoint\n",
        "from keras.utils import plot_model\n",
        "from keras.utils import to_categorical\n",
        "from keras.models import load_model\n",
        "from keras.preprocessing.text import Tokenizer\n",
        "from keras.preprocessing.sequence import pad_sequences\n",
        "\n",
        "import pandas as pd\n",
        "import numpy as np\n",
        "from numpy import array\n",
        "from numpy import argmax\n",
        "\n",
        "import string\n",
        "import re\n",
        "\n",
        "import warnings\n",
        "warnings.filterwarnings('ignore')"
      ],
      "execution_count": 2,
      "outputs": [
        {
          "output_type": "stream",
          "text": [
            "Using TensorFlow backend.\n"
          ],
          "name": "stderr"
        },
        {
          "output_type": "display_data",
          "data": {
            "text/html": [
              "<p style=\"color: red;\">\n",
              "The default version of TensorFlow in Colab will soon switch to TensorFlow 2.x.<br>\n",
              "We recommend you <a href=\"https://www.tensorflow.org/guide/migrate\" target=\"_blank\">upgrade</a> now \n",
              "or ensure your notebook will continue to use TensorFlow 1.x via the <code>%tensorflow_version 1.x</code> magic:\n",
              "<a href=\"https://colab.research.google.com/notebooks/tensorflow_version.ipynb\" target=\"_blank\">more info</a>.</p>\n"
            ],
            "text/plain": [
              "<IPython.core.display.HTML object>"
            ]
          },
          "metadata": {
            "tags": []
          }
        }
      ]
    },
    {
      "cell_type": "code",
      "metadata": {
        "id": "XEfJrKtks78v",
        "colab_type": "code",
        "colab": {}
      },
      "source": [
        "project =list"
      ],
      "execution_count": 0,
      "outputs": []
    },
    {
      "cell_type": "code",
      "metadata": {
        "id": "Edp2j41Fk1-0",
        "colab_type": "code",
        "colab": {}
      },
      "source": [
        "# extract features from each photo in the directory\n",
        "def extract_features(directory):\n",
        "\t# load the model - Oxford Visual Geometry Group\n",
        "\tmodel = VGG16()\n",
        "\t# re-structure the model\n",
        "\tmodel.layers.pop()\n",
        "\tmodel = Model(inputs=model.inputs, outputs=model.layers[-1].output)\n",
        "\t# summarize\n",
        "\t# print(model.summary())\n",
        "\t# extract features from each photo\n",
        "\tfeatures = dict()\n",
        "\tfor name in listdir(directory):\n",
        "\t\t# load an image from file\n",
        "\t\tfilename = directory + '/' + name\n",
        "\t\timage = load_img(filename, target_size=(224, 224))\n",
        "\t\t# convert the image pixels to a numpy array\n",
        "\t\timage = img_to_array(image)\n",
        "\t\t# reshape data for the model\n",
        "\t\timage = image.reshape((1, image.shape[0], image.shape[1], image.shape[2]))\n",
        "\t\t# prepare the image for the VGG model\n",
        "\t\timage = preprocess_input(image)\n",
        "\t\t# get features\n",
        "\t\tfeature = model.predict(image, verbose=0)\n",
        "\t\t# get image id\n",
        "\t\timage_id = name.split('.')[0]\n",
        "\t\t# store feature\n",
        "\t\tfeatures[image_id] = feature\n",
        "\t\tprint('>%s' % name)\n",
        "\treturn features"
      ],
      "execution_count": 0,
      "outputs": []
    },
    {
      "cell_type": "code",
      "metadata": {
        "id": "bpWqqrPY4nDR",
        "colab_type": "code",
        "colab": {
          "base_uri": "https://localhost:8080/",
          "height": 54
        },
        "outputId": "8fb646c7-6cf8-49ef-a7f6-94dd6e598ecd"
      },
      "source": [
        "from google.colab import drive\n",
        "drive.mount('/content/drive')"
      ],
      "execution_count": 5,
      "outputs": [
        {
          "output_type": "stream",
          "text": [
            "Drive already mounted at /content/drive; to attempt to forcibly remount, call drive.mount(\"/content/drive\", force_remount=True).\n"
          ],
          "name": "stdout"
        }
      ]
    },
    {
      "cell_type": "code",
      "metadata": {
        "id": "2T7XKov9w8UB",
        "colab_type": "code",
        "colab": {}
      },
      "source": [
        "data = np.zeros(shape=(1,4097))"
      ],
      "execution_count": 0,
      "outputs": []
    },
    {
      "cell_type": "code",
      "metadata": {
        "id": "X4Q4G7ltk5Xo",
        "colab_type": "code",
        "outputId": "fc0cc833-21a5-48fd-af53-6052cec6cef2",
        "colab": {
          "base_uri": "https://localhost:8080/",
          "height": 717
        }
      },
      "source": [
        "# extract features from all images\n",
        "from os import listdir\n",
        "from os.path import isfile, join\n",
        "\n",
        "# Setting flag = false to skip the first path as it is the path of the root itself and will go infite.\n",
        "flag = False \n",
        "\n",
        "mypath = \"/content/drive/My Drive/Database\"\n",
        "# onlyfiles = [f for f in os.walk(mypath) if isfile(join(mypath, f))]\n",
        "\n",
        "for path, dirs, files in os.walk(mypath):\n",
        "     directory = path\n",
        "     if flag == True:\n",
        "        features = extract_features(directory)\n",
        "        keys =features.keys()\n",
        "        for key in keys:\n",
        "          val= (features.get(key))\n",
        "          val = np.array(val)\n",
        "          labelname = np.array(os.path.basename(os.path.normpath(directory)))\n",
        "          val =np.append(val,labelname)\n",
        "          data =np.row_stack((data,val))\n",
        "     else:\n",
        "       flag =True\n",
        "# directory = '/content/drive/My Drive/Colab Notebooks/01'\n",
        "# features, project = extract_features(directory)\n",
        "# print('Extracted Features: %d' % len(features))\n",
        "# # save to file\n",
        "# dump(features, open('features.pkl', 'wb'))\n"
      ],
      "execution_count": 0,
      "outputs": [
        {
          "output_type": "stream",
          "text": [
            "WARNING:tensorflow:From /usr/local/lib/python3.6/dist-packages/keras/backend/tensorflow_backend.py:66: The name tf.get_default_graph is deprecated. Please use tf.compat.v1.get_default_graph instead.\n",
            "\n",
            "WARNING:tensorflow:From /usr/local/lib/python3.6/dist-packages/keras/backend/tensorflow_backend.py:541: The name tf.placeholder is deprecated. Please use tf.compat.v1.placeholder instead.\n",
            "\n",
            "WARNING:tensorflow:From /usr/local/lib/python3.6/dist-packages/keras/backend/tensorflow_backend.py:4432: The name tf.random_uniform is deprecated. Please use tf.random.uniform instead.\n",
            "\n",
            "WARNING:tensorflow:From /usr/local/lib/python3.6/dist-packages/keras/backend/tensorflow_backend.py:4267: The name tf.nn.max_pool is deprecated. Please use tf.nn.max_pool2d instead.\n",
            "\n",
            "WARNING:tensorflow:From /usr/local/lib/python3.6/dist-packages/keras/backend/tensorflow_backend.py:190: The name tf.get_default_session is deprecated. Please use tf.compat.v1.get_default_session instead.\n",
            "\n",
            "WARNING:tensorflow:From /usr/local/lib/python3.6/dist-packages/keras/backend/tensorflow_backend.py:197: The name tf.ConfigProto is deprecated. Please use tf.compat.v1.ConfigProto instead.\n",
            "\n",
            "WARNING:tensorflow:From /usr/local/lib/python3.6/dist-packages/keras/backend/tensorflow_backend.py:203: The name tf.Session is deprecated. Please use tf.compat.v1.Session instead.\n",
            "\n",
            "WARNING:tensorflow:From /usr/local/lib/python3.6/dist-packages/keras/backend/tensorflow_backend.py:207: The name tf.global_variables is deprecated. Please use tf.compat.v1.global_variables instead.\n",
            "\n",
            "WARNING:tensorflow:From /usr/local/lib/python3.6/dist-packages/keras/backend/tensorflow_backend.py:216: The name tf.is_variable_initialized is deprecated. Please use tf.compat.v1.is_variable_initialized instead.\n",
            "\n",
            "WARNING:tensorflow:From /usr/local/lib/python3.6/dist-packages/keras/backend/tensorflow_backend.py:223: The name tf.variables_initializer is deprecated. Please use tf.compat.v1.variables_initializer instead.\n",
            "\n",
            ">00005_930831_fa.ppm.bz2.ppm\n",
            ">00005_930831_fb.ppm.bz2.ppm\n",
            ">00005_930831_fb.ppm.bz2.png\n",
            ">00005_930831_fa.ppm.bz2.png\n",
            ">00004_930831_fa.ppm\n",
            ">00004_930831_fb.ppm\n",
            ">00004_930831_fb.ppm.bz2.png\n",
            ">00004_930831_fa.ppm.bz2.png\n",
            ">00008_930831_fa_a.ppm.bz2.ppm\n",
            ">00008_930831_fb_a.ppm.bz2.ppm\n",
            ">00008_930831_fa_a.ppm.bz2.png\n",
            ">00008_930831_fb_a.ppm.bz2.png\n",
            ">00006_930831_fa_a.ppm.bz2.ppm\n",
            ">00006_930831_fb_a.ppm.bz2.ppm\n",
            ">00006_930831_fb_a.ppm.bz2.png\n",
            ">00006_930831_fa_a.ppm.bz2.png\n",
            ">00007_930831_fa_a.ppm.bz2.ppm\n",
            ">00007_930831_fb_a.ppm.bz2.ppm\n",
            ">00007_930831_fa_a.ppm.bz2.png\n",
            ">00007_930831_fb_a.ppm.bz2.png\n"
          ],
          "name": "stdout"
        }
      ]
    },
    {
      "cell_type": "code",
      "metadata": {
        "id": "bRo_b2Lvsoxi",
        "colab_type": "code",
        "colab": {}
      },
      "source": [
        "# from PIL import Image\n",
        "# import numpy as np\n",
        "\n",
        "# w, h = 512, 512\n",
        "# data = np.zeros((h, w, 3), dtype=np.uint8)\n",
        "# data[256, 256] = [255, 0, 0]\n",
        "# img = Image.fromarray(project, 'RGB')\n",
        "# img.save('my.png')\n",
        "# img.show()"
      ],
      "execution_count": 0,
      "outputs": []
    },
    {
      "cell_type": "code",
      "metadata": {
        "id": "onlV7-EYnmET",
        "colab_type": "code",
        "colab": {}
      },
      "source": [
        "# keys =features.keys()\n",
        "# for key in keys:\n",
        "#   val= (features.get(key))\n",
        "#   data =np.row_stack((data,val))"
      ],
      "execution_count": 0,
      "outputs": []
    },
    {
      "cell_type": "code",
      "metadata": {
        "id": "HVlxqRyd40AP",
        "colab_type": "code",
        "colab": {}
      },
      "source": [
        "data = data[1:]\n",
        "data = pd.DataFrame(data)\n",
        "data"
      ],
      "execution_count": 0,
      "outputs": []
    },
    {
      "cell_type": "code",
      "metadata": {
        "id": "fMEkkc_tfGEi",
        "colab_type": "code",
        "colab": {}
      },
      "source": [
        "dump(data, open('features.pkl', 'wb'))"
      ],
      "execution_count": 0,
      "outputs": []
    },
    {
      "cell_type": "code",
      "metadata": {
        "id": "s7k_aIejjDUL",
        "colab_type": "code",
        "colab": {}
      },
      "source": [
        "import pickle\n",
        "pickle_in = open(\"features.pkl\",\"rb\")\n",
        "df = pickle.load(pickle_in)"
      ],
      "execution_count": 0,
      "outputs": []
    },
    {
      "cell_type": "code",
      "metadata": {
        "id": "RMyLREqmlYt4",
        "colab_type": "code",
        "colab": {}
      },
      "source": [
        "data = pd.DataFrame(data)"
      ],
      "execution_count": 0,
      "outputs": []
    },
    {
      "cell_type": "code",
      "metadata": {
        "id": "mZkzhzYboky-",
        "colab_type": "code",
        "colab": {}
      },
      "source": [
        "columns =data.columns"
      ],
      "execution_count": 0,
      "outputs": []
    },
    {
      "cell_type": "code",
      "metadata": {
        "id": "ktrs3_enp78m",
        "colab_type": "code",
        "colab": {}
      },
      "source": [
        "data.shape"
      ],
      "execution_count": 0,
      "outputs": []
    },
    {
      "cell_type": "code",
      "metadata": {
        "id": "7xfyUrlkoeVs",
        "colab_type": "code",
        "colab": {}
      },
      "source": [
        "persons = data[columns[-1]].unique()"
      ],
      "execution_count": 0,
      "outputs": []
    },
    {
      "cell_type": "code",
      "metadata": {
        "id": "_hYwDvl0iliF",
        "colab_type": "code",
        "colab": {}
      },
      "source": [
        "\n",
        "# new_data = np.linspace(1,4098, num=4098)\n",
        "# new_data= np.reshape(new_data, (1,4098))"
      ],
      "execution_count": 0,
      "outputs": []
    },
    {
      "cell_type": "code",
      "metadata": {
        "id": "GjxLALq7o884",
        "colab_type": "code",
        "colab": {}
      },
      "source": [
        "new_data = np.zeros(shape = (1,data.shape[1]+1))\n",
        "# new_data = new_data.reshape(-1,1)\n",
        "new_data.shape"
      ],
      "execution_count": 0,
      "outputs": []
    },
    {
      "cell_type": "code",
      "metadata": {
        "id": "0EWHdejwo0sn",
        "colab_type": "code",
        "colab": {}
      },
      "source": [
        "for p in persons:\n",
        "  d = data.loc[data[columns[-1]] ==  p]\n",
        "  d = np.array(d, dtype =float)\n",
        "  d = np.absolute(d[0,:-1]-d[1,:-1])\n",
        "  d = np.append(d,[p,-1])\n",
        "  new_data = np.row_stack((d,new_data))\n",
        "new_data = new_data[:-1,:]  \n"
      ],
      "execution_count": 0,
      "outputs": []
    },
    {
      "cell_type": "code",
      "metadata": {
        "id": "0n4soXRxlKQO",
        "colab_type": "code",
        "colab": {}
      },
      "source": [
        "# new_data[0] = np.append(new_data,4099)"
      ],
      "execution_count": 0,
      "outputs": []
    },
    {
      "cell_type": "code",
      "metadata": {
        "id": "xTUkKldksnQB",
        "colab_type": "code",
        "colab": {}
      },
      "source": [
        "new_data = pd.DataFrame(new_data)\n",
        "# new_header = new_data.iloc[0] #grab the first row for the header\n",
        "# new_data = new_data[1:] #take the data less the header row\n",
        "# new_data.columns = new_header #set the header row as the df header\n",
        "person = list(new_data[columns[-1]])\n",
        "person = np.array(person)\n",
        "new_data['Person'] = np.array(person, dtype=float)\n"
      ],
      "execution_count": 0,
      "outputs": []
    },
    {
      "cell_type": "code",
      "metadata": {
        "id": "UBKyV9o_FWMe",
        "colab_type": "code",
        "colab": {}
      },
      "source": [
        "label = np.array(list(new_data[new_data.columns[len(new_data.columns)-2]]))\n",
        "new_data['Label'] = np.array(label, dtype=float)\n"
      ],
      "execution_count": 0,
      "outputs": []
    },
    {
      "cell_type": "code",
      "metadata": {
        "id": "czpShAVyF3EX",
        "colab_type": "code",
        "colab": {}
      },
      "source": [
        "new_data.columns = np.array(new_data.columns)"
      ],
      "execution_count": 0,
      "outputs": []
    },
    {
      "cell_type": "code",
      "metadata": {
        "id": "GVi26SfzHjTj",
        "colab_type": "code",
        "colab": {}
      },
      "source": [
        "new_data = new_data.drop([new_data.columns[len(new_data.columns)-3]],axis=1)"
      ],
      "execution_count": 0,
      "outputs": []
    },
    {
      "cell_type": "code",
      "metadata": {
        "id": "ZkRGVR9yvY2m",
        "colab_type": "code",
        "colab": {}
      },
      "source": [
        "new_data =new_data.drop([new_data.columns[len(new_data.columns)-3]],axis=1)"
      ],
      "execution_count": 0,
      "outputs": []
    },
    {
      "cell_type": "code",
      "metadata": {
        "id": "mOe41742TO60",
        "colab_type": "code",
        "colab": {}
      },
      "source": [
        ""
      ],
      "execution_count": 0,
      "outputs": []
    },
    {
      "cell_type": "code",
      "metadata": {
        "id": "IiUlYMCavc1g",
        "colab_type": "code",
        "colab": {}
      },
      "source": [
        "new_datac2 = np.zeros(shape = (1,data.shape[1]+1))\n",
        "np.random.seed(0)"
      ],
      "execution_count": 0,
      "outputs": []
    },
    {
      "cell_type": "code",
      "metadata": {
        "id": "BIdJBNkLtSzJ",
        "colab_type": "code",
        "colab": {}
      },
      "source": [
        "for i in range(persons.shape[0]):\n",
        "    for j in range(persons.shape[0]):\n",
        "        if i != j:\n",
        "            p1 = data.loc[data[columns[-1]] ==  persons[i]]\n",
        "            p2 = data.loc[data[columns[-1]] ==  persons[j]]\n",
        "            \n",
        "            p1 = np.array(p1, dtype= float)\n",
        "            p2 = np.array(p2, dtype = float)\n",
        "            p3 = np.row_stack((p2[1],p2[0]))\n",
        "            # p3 = np.array(p3, dtype=float)\n",
        "            p = np.absolute(p1-p2)\n",
        "            k = np.absolute(p1-p3)\n",
        "            # label  = (((int(persons[i]))+1)*100)+((int(persons[j]))+1)\n",
        "            # label = np.array([label,label])\n",
        "            # label = label.T\n",
        "            c2 = np.array([1,1])\n",
        "            c2= c2.T\n",
        "            # p = np.column_stack((p,label))\n",
        "            p = np.column_stack((p,c2))\n",
        "            # k = np.column_stack((k,label))\n",
        "            k = np.column_stack((k,c2))\n",
        "            new_datac2 = np.row_stack((p,new_datac2))\n",
        "            new_datac2 = np.row_stack((k,new_datac2))          \n"
      ],
      "execution_count": 0,
      "outputs": []
    },
    {
      "cell_type": "code",
      "metadata": {
        "id": "_GwC8pZg22Nt",
        "colab_type": "code",
        "colab": {}
      },
      "source": [
        "new_datac2 = new_datac2[:-1]\n",
        "new_datac2 = pd.DataFrame(new_datac2)\n"
      ],
      "execution_count": 0,
      "outputs": []
    },
    {
      "cell_type": "code",
      "metadata": {
        "id": "yELAYXigOqZy",
        "colab_type": "code",
        "colab": {}
      },
      "source": [
        "new_datac2['Person'] = np.array(new_datac2.iloc[:,4096])\n"
      ],
      "execution_count": 0,
      "outputs": []
    },
    {
      "cell_type": "code",
      "metadata": {
        "id": "xyS62mlVPG3_",
        "colab_type": "code",
        "colab": {}
      },
      "source": [
        "new_datac2['Label'] = np.array(new_datac2.iloc[:,4097])"
      ],
      "execution_count": 0,
      "outputs": []
    },
    {
      "cell_type": "code",
      "metadata": {
        "id": "rVkiOhBJPLVL",
        "colab_type": "code",
        "colab": {}
      },
      "source": [
        "new_datac2 = new_datac2.drop([new_datac2.columns[len(new_datac2.columns)-3]],axis=1)\n"
      ],
      "execution_count": 0,
      "outputs": []
    },
    {
      "cell_type": "code",
      "metadata": {
        "id": "qL0oFfHOP-_G",
        "colab_type": "code",
        "colab": {}
      },
      "source": [
        "new_datac2 = new_datac2.drop([new_datac2.columns[len(new_datac2.columns)-3]],axis=1)"
      ],
      "execution_count": 0,
      "outputs": []
    },
    {
      "cell_type": "code",
      "metadata": {
        "id": "mKWkg4qDQCFA",
        "colab_type": "code",
        "colab": {}
      },
      "source": [
        "ndata = pd.concat([new_data,new_datac2])"
      ],
      "execution_count": 0,
      "outputs": []
    },
    {
      "cell_type": "code",
      "metadata": {
        "id": "7Bu1hnYjQHOC",
        "colab_type": "code",
        "colab": {}
      },
      "source": [
        "ndata"
      ],
      "execution_count": 0,
      "outputs": []
    },
    {
      "cell_type": "code",
      "metadata": {
        "id": "mOUoFVeES5Qt",
        "colab_type": "code",
        "colab": {}
      },
      "source": [
        "ndata.loc[ndata['Label']==0]"
      ],
      "execution_count": 0,
      "outputs": []
    },
    {
      "cell_type": "code",
      "metadata": {
        "id": "JClpOH97RCjr",
        "colab_type": "code",
        "colab": {}
      },
      "source": [
        "training = ndata\n",
        "training = training.drop(['Person'],axis=1)\n",
        "training = np.array(training,dtype=float)\n",
        "x_train = training[:,:-1]\n",
        "y_train = training[:,-1]\n",
        "from sklearn.svm import SVC\n",
        "clf = SVC(gamma='auto',kernel='linear')\n",
        "clf.fit(x_train,y_train)\n",
        "\n",
        "print (len(clf.support_vectors_))\n",
        "print (clf.n_support_)\n",
        "clf.score(x_train,y_train)\n",
        "print (np.abs(clf.dual_coef_))"
      ],
      "execution_count": 0,
      "outputs": []
    },
    {
      "cell_type": "markdown",
      "metadata": {
        "id": "WgdRs1zEhtPb",
        "colab_type": "text"
      },
      "source": [
        "## Setting Global values for aplha,intercept,and others\n"
      ]
    },
    {
      "cell_type": "code",
      "metadata": {
        "id": "cKB7s_lahr73",
        "colab_type": "code",
        "colab": {}
      },
      "source": [
        "alphas = clf.dual_coef_\n",
        "support_vectors = clf.support_vectors_\n",
        "bias = clf.intercept_\n",
        "Ns = len(support_vectors)\n",
        "print ('Aplhas',alphas)\n",
        "print ('Support Vectors',support_vectors)\n",
        "print ('Bias',bias)\n",
        "print ('Ns', Ns)"
      ],
      "execution_count": 0,
      "outputs": []
    },
    {
      "cell_type": "code",
      "metadata": {
        "id": "YRv1S4vb46Ie",
        "colab_type": "code",
        "colab": {}
      },
      "source": [
        ""
      ],
      "execution_count": 0,
      "outputs": []
    },
    {
      "cell_type": "code",
      "metadata": {
        "id": "rA48ga1b5Qyz",
        "colab_type": "code",
        "colab": {}
      },
      "source": [
        "# Creating test set\n",
        "testSet = extract_features(\"/content/drive/My Drive/TestDatabase/00020\")"
      ],
      "execution_count": 0,
      "outputs": []
    },
    {
      "cell_type": "code",
      "metadata": {
        "id": "nvWmJQ4BCZam",
        "colab_type": "code",
        "colab": {}
      },
      "source": [
        "input = np.array(list(testSet.values())[0][0])"
      ],
      "execution_count": 0,
      "outputs": []
    },
    {
      "cell_type": "markdown",
      "metadata": {
        "id": "hAcFinmuf-fd",
        "colab_type": "text"
      },
      "source": [
        "### Verification Part\n"
      ]
    },
    {
      "cell_type": "code",
      "metadata": {
        "id": "OOUFzu2C44JC",
        "colab_type": "code",
        "colab": {}
      },
      "source": [
        ""
      ],
      "execution_count": 0,
      "outputs": []
    },
    {
      "cell_type": "code",
      "metadata": {
        "id": "E9NIaBjmi7Ov",
        "colab_type": "code",
        "colab": {}
      },
      "source": [
        "# Helper function\n",
        "def getX(ci):\n",
        "  res = np.array(data.loc[data[data.columns[len(data.columns)-1]] == ci], dtype= float)\n",
        "  # print (\"Delta\", res[0]-res[1])\n",
        "  return res[0,:-1]\n"
      ],
      "execution_count": 0,
      "outputs": []
    },
    {
      "cell_type": "code",
      "metadata": {
        "id": "SGwlh4uVgJhV",
        "colab_type": "code",
        "colab": {}
      },
      "source": [
        "getX(\"00005\")"
      ],
      "execution_count": 0,
      "outputs": []
    },
    {
      "cell_type": "code",
      "metadata": {
        "id": "9CIU3wRupPwI",
        "colab_type": "code",
        "colab": {}
      },
      "source": [
        "def subtract(a,b):\n",
        "   a= np.array(a, dtype =float)\n",
        "   b = np.array(b,dtype = float)\n",
        "   print (\"a\",a.shape)\n",
        "   print (\"b\",b.shape)\n",
        "   return np.absolute(a- b)"
      ],
      "execution_count": 0,
      "outputs": []
    },
    {
      "cell_type": "code",
      "metadata": {
        "id": "Cc2kLljri2C5",
        "colab_type": "code",
        "colab": {}
      },
      "source": [
        "def computeKernal(a,sub):\n",
        "  sub = sub.reshape(-1,1)\n",
        "  return (a) @ (sub)"
      ],
      "execution_count": 0,
      "outputs": []
    },
    {
      "cell_type": "code",
      "metadata": {
        "id": "OLYxRgorVpXN",
        "colab_type": "code",
        "colab": {}
      },
      "source": [
        "'''\n",
        "Terminologies:\n",
        "1. probe = test image\n",
        "2. ci = claimed identity\n",
        "'''\n",
        "def identify(probe,ci):\n",
        "    # x_ = extract_proble_features(probe)\n",
        "    x = getX(ci)\n",
        "    sub = subtract(x,probe)\n",
        "    similarity = 0\n",
        "    for i in range(Ns):\n",
        "         alpha = alphas[0][i]\n",
        "         similarity = similarity + (alpha * computeKernal(support_vectors[i],sub))\n",
        "\n",
        "    # print (\"Similarity\",similarity)\n",
        "    return similarity\n",
        "     "
      ],
      "execution_count": 0,
      "outputs": []
    },
    {
      "cell_type": "code",
      "metadata": {
        "id": "Lt3ze1DQE1Gv",
        "colab_type": "code",
        "colab": {}
      },
      "source": [
        "ans =list()\n",
        "identify(input,\"00006\")"
      ],
      "execution_count": 0,
      "outputs": []
    },
    {
      "cell_type": "code",
      "metadata": {
        "id": "eMAunUofpDNa",
        "colab_type": "code",
        "colab": {}
      },
      "source": [
        "res = np.array(data.loc[data[data.columns[len(data.columns)-1]] == \"00005\"], dtype= float)\n",
        "identify(res[1,:-1],\"00005\")"
      ],
      "execution_count": 0,
      "outputs": []
    }
  ]
}